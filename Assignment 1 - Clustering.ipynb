{
 "cells": [
  {
   "cell_type": "markdown",
   "id": "b4b0d03a",
   "metadata": {},
   "source": [
    "# KMeans and Extended KMeans"
   ]
  },
  {
   "cell_type": "code",
   "execution_count": 1,
   "id": "727598f6",
   "metadata": {},
   "outputs": [],
   "source": [
    "import numpy as np\n",
    "import matplotlib.pyplot as plt\n",
    "from scipy.spatial.distance import cdist\n",
    "from sklearn.datasets import make_blobs\n",
    "from collections import Counter"
   ]
  },
  {
   "cell_type": "code",
   "execution_count": 2,
   "id": "0c2294aa",
   "metadata": {},
   "outputs": [],
   "source": [
    "X, cluster_assignments = make_blobs(n_samples=200, centers=4,cluster_std=0.60, random_state=0)"
   ]
  },
  {
   "cell_type": "code",
   "execution_count": 3,
   "id": "d92f124d",
   "metadata": {},
   "outputs": [],
   "source": [
    "def __init__():\n",
    "    k = 5\n",
    "    max_iterations = 100"
   ]
  },
  {
   "cell_type": "markdown",
   "id": "b2b1a229",
   "metadata": {},
   "source": [
    "# Canonical KMeans Implementation"
   ]
  },
  {
   "cell_type": "code",
   "execution_count": 4,
   "id": "9a1802e2",
   "metadata": {},
   "outputs": [],
   "source": [
    "def fit(X, k, max_iterations):\n",
    "    centroids = X[np.random.choice(len(X), k)]\n",
    "    closest = np.zeros(len(X)).astype(int)\n",
    "\n",
    "    for iterations in range(max_iterations):\n",
    "        distances = cdist(X, centroids)\n",
    "        closest = np.argmin(distances, axis=1)\n",
    "    \n",
    "        for i in range(k):\n",
    "            centroids[i, :] = X[closest == i].mean(axis=0)\n",
    "\n",
    "    return closest, centroids"
   ]
  },
  {
   "cell_type": "code",
   "execution_count": 5,
   "id": "0428329c",
   "metadata": {},
   "outputs": [],
   "source": [
    "def compareList(l1, l2):\n",
    "    return [i==j for i, j in zip(l1, l2)]"
   ]
  },
  {
   "cell_type": "markdown",
   "id": "9c868e4d",
   "metadata": {},
   "source": [
    "## Output for canonical KMeans implementation"
   ]
  },
  {
   "cell_type": "code",
   "execution_count": 6,
   "id": "a6883c35",
   "metadata": {},
   "outputs": [
    {
     "name": "stdout",
     "output_type": "stream",
     "text": [
      "List of the cluster hypothesis:\n",
      " [4 3 1 0 4 1 3 1 1 1 1 4 3 3 4 1 0 2 0 4 0 3 4 3 4 4 2 4 4 1 2 1 3 4 3 1 3\n",
      " 1 1 0 2 2 2 1 4 3 1 0 0 1 2 3 3 2 1 0 3 4 1 4 0 1 4 1 0 1 4 0 3 3 4 4 1 1\n",
      " 3 2 3 3 4 4 0 1 4 3 3 1 1 4 3 3 2 2 0 1 1 4 3 0 1 1 2 4 4 0 2 3 1 4 4 1 2\n",
      " 3 3 4 4 1 3 3 0 1 0 3 1 4 1 3 1 3 4 1 3 4 3 2 2 3 2 0 4 2 4 3 4 4 3 4 1 4\n",
      " 3 0 0 0 1 3 4 1 0 3 2 4 0 4 4 3 3 2 1 4 4 3 4 1 3 2 0 2 1 1 3 1 3 4 1 4 1\n",
      " 3 3 0 1 2 4 4 1 2 3 3 3 1 2 4]\n",
      "List containing lists of the cluster centroid's values:\n",
      " [[-1.79537069  7.60311865]\n",
      " [ 0.90793962  4.35713791]\n",
      " [-0.90148361  7.83881232]\n",
      " [-1.62401415  2.9159629 ]\n",
      " [ 2.07187892  0.97422926]]\n",
      "Cluster assignments:\n",
      " [1 2 0 3 1 0 2 0 0 0 0 1 2 2 1 0 3 3 3 1 3 2 1 2 1 1 3 1 1 0 3 0 2 1 2 0 2\n",
      " 0 0 3 3 3 3 0 1 2 0 3 3 0 3 2 2 3 0 3 2 1 0 1 3 0 1 0 3 0 1 3 2 2 1 1 0 0\n",
      " 2 3 2 2 1 1 3 0 1 2 2 0 0 1 2 2 3 3 3 0 0 1 2 3 0 0 3 1 1 3 3 2 0 1 1 0 3\n",
      " 2 2 1 1 0 2 2 3 0 3 2 0 1 0 2 0 2 1 0 2 1 2 3 3 2 3 3 1 3 1 2 1 1 2 1 0 1\n",
      " 2 3 3 3 0 2 1 0 3 2 3 1 3 1 1 2 2 3 0 1 1 2 1 0 2 3 3 3 0 0 2 0 2 1 0 1 0\n",
      " 2 2 3 0 3 1 1 0 3 2 2 2 0 3 1]\n",
      "Similarity between hypothesis and cluster assignments  Counter({False: 200})\n"
     ]
    },
    {
     "data": {
      "text/plain": [
       "Counter({4: 50, 3: 50, 1: 50, 0: 25, 2: 25})"
      ]
     },
     "execution_count": 6,
     "metadata": {},
     "output_type": "execute_result"
    }
   ],
   "source": [
    "cluster_hyp, centroids = fit(X, 5, 100)\n",
    "print(\"List of the cluster hypothesis:\\n\", cluster_hyp)\n",
    "print(\"List containing lists of the cluster centroid's values:\\n\", centroids)\n",
    "print(\"Cluster assignments:\\n\", cluster_assignments)\n",
    "\n",
    "compared = compareList(cluster_hyp, cluster_assignments)\n",
    "print(\"Similarity between hypothesis and cluster assignments \", Counter(compared))\n",
    "\n",
    "Counter(cluster_hyp)"
   ]
  },
  {
   "cell_type": "markdown",
   "id": "0ac4c220",
   "metadata": {},
   "source": [
    "# Extended KMeans Implementation"
   ]
  },
  {
   "cell_type": "code",
   "execution_count": 7,
   "id": "01c28ff4",
   "metadata": {},
   "outputs": [],
   "source": [
    "def fit2(X, k, max_iterations, boolean):\n",
    "    centroids = X[np.random.choice(len(X), k)]\n",
    "    closest = np.zeros(len(X)).astype(int)\n",
    "\n",
    "    if boolean == False:\n",
    "        for iterations in range(max_iterations):\n",
    "            distances = cdist(X, centroids)\n",
    "            closest = np.argmin(distances, axis=1)\n",
    "    \n",
    "            for i in range(k):\n",
    "                centroids[i, :] = X[closest == i].mean(axis=0)\n",
    "\n",
    "        return closest, centroids\n",
    "        \n",
    "    if boolean == True: \n",
    "        for iterations in range(max_iterations):\n",
    "            distances = cdist(X, centroids)\n",
    "            closest = np.argmin(distances, axis=1)        \n",
    "            \n",
    "            for i in range(k):\n",
    "                centroids[i, :] = X[closest == i].mean(axis=0)\n",
    "    \n",
    "                          \n",
    "        return closest, centroids\n",
    "    "
   ]
  },
  {
   "cell_type": "markdown",
   "id": "07a1e5c3",
   "metadata": {},
   "source": [
    "## Output for extended KMeans implementation"
   ]
  },
  {
   "cell_type": "markdown",
   "id": "f872a565",
   "metadata": {},
   "source": [
    "### False boolean"
   ]
  },
  {
   "cell_type": "code",
   "execution_count": 8,
   "id": "aecefaaa",
   "metadata": {},
   "outputs": [
    {
     "name": "stdout",
     "output_type": "stream",
     "text": [
      "List of the cluster hypothesis:\n",
      " [1 0 2 4 3 2 0 2 2 2 2 3 0 0 1 2 4 4 4 1 4 0 3 0 1 3 4 3 3 2 4 2 0 1 0 2 0\n",
      " 2 2 4 4 4 4 2 3 0 2 4 4 2 4 0 0 4 2 4 0 3 2 1 4 2 1 2 4 2 1 4 0 0 3 3 2 2\n",
      " 0 4 0 0 1 3 4 2 1 0 0 2 2 3 0 0 4 4 4 2 2 1 0 4 2 2 4 1 1 4 4 0 2 1 1 2 4\n",
      " 0 0 1 3 2 0 0 4 2 4 0 2 3 2 0 2 0 3 2 0 1 0 4 4 0 4 4 3 4 3 0 1 1 0 3 2 1\n",
      " 0 4 4 4 2 0 1 2 4 0 4 1 4 3 3 0 0 4 2 3 1 0 1 2 0 4 4 4 2 2 0 2 0 3 2 3 2\n",
      " 0 0 4 2 4 3 3 2 4 0 0 0 2 4 1]\n",
      "List containing lists of the cluster centroid's values:\n",
      " [[-1.62401415  2.9159629 ]\n",
      " [ 2.25966824  1.46435077]\n",
      " [ 0.90793962  4.35713791]\n",
      " [ 1.88408961  0.48410776]\n",
      " [-1.34842715  7.72096548]]\n",
      "Cluster assignments:\n",
      " [1 2 0 3 1 0 2 0 0 0 0 1 2 2 1 0 3 3 3 1 3 2 1 2 1 1 3 1 1 0 3 0 2 1 2 0 2\n",
      " 0 0 3 3 3 3 0 1 2 0 3 3 0 3 2 2 3 0 3 2 1 0 1 3 0 1 0 3 0 1 3 2 2 1 1 0 0\n",
      " 2 3 2 2 1 1 3 0 1 2 2 0 0 1 2 2 3 3 3 0 0 1 2 3 0 0 3 1 1 3 3 2 0 1 1 0 3\n",
      " 2 2 1 1 0 2 2 3 0 3 2 0 1 0 2 0 2 1 0 2 1 2 3 3 2 3 3 1 3 1 2 1 1 2 1 0 1\n",
      " 2 3 3 3 0 2 1 0 3 2 3 1 3 1 1 2 2 3 0 1 1 2 1 0 2 3 3 3 0 0 2 0 2 1 0 1 0\n",
      " 2 2 3 0 3 1 1 0 3 2 2 2 0 3 1]\n",
      "Similarity between hypothesis and cluster assignments  Counter({False: 175, True: 25})\n"
     ]
    },
    {
     "data": {
      "text/plain": [
       "Counter({1: 25, 0: 50, 2: 50, 4: 50, 3: 25})"
      ]
     },
     "execution_count": 8,
     "metadata": {},
     "output_type": "execute_result"
    }
   ],
   "source": [
    "cluster_hyp, centroids = fit2(X, 5, 100, False)\n",
    "print(\"List of the cluster hypothesis:\\n\", cluster_hyp)\n",
    "print(\"List containing lists of the cluster centroid's values:\\n\", centroids)\n",
    "print(\"Cluster assignments:\\n\", cluster_assignments)\n",
    "\n",
    "compared = compareList(cluster_hyp, cluster_assignments)\n",
    "print(\"Similarity between hypothesis and cluster assignments \", Counter(compared))\n",
    "\n",
    "Counter(cluster_hyp)"
   ]
  },
  {
   "cell_type": "markdown",
   "id": "66bb6480",
   "metadata": {},
   "source": [
    "### True boolean"
   ]
  },
  {
   "cell_type": "code",
   "execution_count": 9,
   "id": "4ef240bd",
   "metadata": {},
   "outputs": [
    {
     "name": "stdout",
     "output_type": "stream",
     "text": [
      "List of the cluster hypothesis:\n",
      " [3 4 1 2 3 0 4 1 1 1 1 3 4 4 3 1 2 2 2 3 2 4 3 4 3 3 2 3 3 1 2 1 4 3 4 1 4\n",
      " 1 0 2 2 2 2 1 3 4 1 2 2 1 2 4 4 2 1 2 4 3 0 3 2 1 3 1 2 1 3 2 4 4 3 3 1 1\n",
      " 4 2 4 4 3 3 2 0 3 4 4 0 1 3 4 4 2 2 2 0 0 3 4 2 1 0 2 3 3 2 2 4 1 3 3 1 2\n",
      " 4 4 3 3 1 4 4 2 1 2 4 0 3 1 4 1 4 3 1 4 3 4 2 2 4 2 2 3 2 3 4 3 3 4 3 1 3\n",
      " 4 2 2 2 1 4 3 0 2 4 2 3 2 3 3 4 4 2 1 3 3 4 3 1 4 2 2 2 0 0 4 0 4 3 1 3 1\n",
      " 4 4 2 0 2 3 3 1 2 4 4 4 1 2 3]\n",
      "List containing lists of the cluster centroid's values:\n",
      " [[ 0.31253891  4.87814416]\n",
      " [ 1.13948434  4.15452437]\n",
      " [-1.34842715  7.72096548]\n",
      " [ 2.07187892  0.97422926]\n",
      " [-1.62401415  2.9159629 ]]\n",
      "Cluster assignments:\n",
      " [1 2 0 3 1 0 2 0 0 0 0 1 2 2 1 0 3 3 3 1 3 2 1 2 1 1 3 1 1 0 3 0 2 1 2 0 2\n",
      " 0 0 3 3 3 3 0 1 2 0 3 3 0 3 2 2 3 0 3 2 1 0 1 3 0 1 0 3 0 1 3 2 2 1 1 0 0\n",
      " 2 3 2 2 1 1 3 0 1 2 2 0 0 1 2 2 3 3 3 0 0 1 2 3 0 0 3 1 1 3 3 2 0 1 1 0 3\n",
      " 2 2 1 1 0 2 2 3 0 3 2 0 1 0 2 0 2 1 0 2 1 2 3 3 2 3 3 1 3 1 2 1 1 2 1 0 1\n",
      " 2 3 3 3 0 2 1 0 3 2 3 1 3 1 1 2 2 3 0 1 1 2 1 0 2 3 3 3 0 0 2 0 2 1 0 1 0\n",
      " 2 2 3 0 3 1 1 0 3 2 2 2 0 3 1]\n",
      "Similarity between hypothesis and cluster assignments  Counter({False: 186, True: 14})\n"
     ]
    },
    {
     "data": {
      "text/plain": [
       "Counter({3: 50, 4: 50, 1: 36, 2: 50, 0: 14})"
      ]
     },
     "execution_count": 9,
     "metadata": {},
     "output_type": "execute_result"
    }
   ],
   "source": [
    "cluster_hyp, centroids = fit2(X, 5, 100, True)\n",
    "print(\"List of the cluster hypothesis:\\n\", cluster_hyp)\n",
    "print(\"List containing lists of the cluster centroid's values:\\n\", centroids)\n",
    "print(\"Cluster assignments:\\n\", cluster_assignments)\n",
    "\n",
    "compared = compareList(cluster_hyp, cluster_assignments)\n",
    "print(\"Similarity between hypothesis and cluster assignments \", Counter(compared))\n",
    "\n",
    "Counter(cluster_hyp)"
   ]
  },
  {
   "cell_type": "code",
   "execution_count": 10,
   "id": "91189a11",
   "metadata": {},
   "outputs": [
    {
     "data": {
      "image/png": "[encoded data removed]",
      "text/plain": [
       "<Figure size 432x288 with 1 Axes>"
      ]
     },
     "metadata": {
      "needs_background": "light"
     },
     "output_type": "display_data"
    }
   ],
   "source": [
    "plt.scatter(X[:, 0], X[:, 1])\n",
    "plt.show()"
   ]
  },
  {
   "cell_type": "markdown",
   "id": "77a4d958",
   "metadata": {},
   "source": [
    "## Performance Comparison: \n"
   ]
  },
  {
   "cell_type": "code",
   "execution_count": 11,
   "id": "c51514ea",
   "metadata": {},
   "outputs": [
    {
     "name": "stdout",
     "output_type": "stream",
     "text": [
      "KMeans labels: \n",
      " [4 3 2 1 0 2 3 2 2 2 2 0 3 3 4 2 1 1 1 4 1 3 0 3 4 0 1 0 0 2 1 2 3 4 3 2 3\n",
      " 2 2 1 1 1 1 2 0 3 2 1 1 2 1 3 3 1 2 1 3 0 2 4 1 2 4 2 1 2 4 1 3 3 0 0 2 2\n",
      " 3 1 3 3 4 0 1 2 4 3 3 2 2 0 3 3 1 1 1 2 2 4 3 1 2 2 1 4 4 1 1 3 2 4 4 2 1\n",
      " 3 3 4 0 2 3 3 1 2 1 3 2 0 2 3 2 3 0 2 3 4 3 1 1 3 1 1 0 1 0 3 4 4 3 0 2 4\n",
      " 3 1 1 1 2 3 4 2 1 3 1 4 1 0 0 3 3 1 2 0 4 3 4 2 3 1 1 1 2 2 3 2 3 0 2 0 2\n",
      " 3 3 1 2 1 0 0 2 1 3 3 3 2 1 4]\n",
      "KMeans cluster_centers:\n",
      " [[ 1.88408961  0.48410776]\n",
      " [-1.34842715  7.72096548]\n",
      " [ 0.90793962  4.35713791]\n",
      " [-1.62401415  2.9159629 ]\n",
      " [ 2.25966824  1.46435077]]\n"
     ]
    }
   ],
   "source": [
    "from sklearn.cluster import KMeans\n",
    "\n",
    "kmeans = KMeans(n_clusters=5).fit(X)\n",
    "print(\"KMeans labels: \\n\", kmeans.labels_)\n",
    "\n",
    "print(\"KMeans cluster_centers:\\n\", kmeans.cluster_centers_)"
   ]
  },
  {
   "cell_type": "code",
   "execution_count": 12,
   "id": "64ad1d10",
   "metadata": {},
   "outputs": [
    {
     "name": "stdout",
     "output_type": "stream",
     "text": [
      "Similarity between my implementation and scikit-learn toolkit: \n",
      " Counter({False: 200})\n"
     ]
    },
    {
     "data": {
      "text/plain": [
       "array([[-1.5715507 ,  4.3940364 ],\n",
       "       [ 2.48791149, -3.56644111],\n",
       "       [-2.25636676,  3.36382757],\n",
       "       [ 3.69589307, -1.94173364],\n",
       "       [-3.88368239,  1.45161214]])"
      ]
     },
     "execution_count": 12,
     "metadata": {},
     "output_type": "execute_result"
    }
   ],
   "source": [
    "compared = compareList(cluster_hyp, kmeans.labels_)\n",
    "print(\"Similarity between my implementation and scikit-learn toolkit: \\n\", Counter(compared))\n",
    "difference = centroids - kmeans.cluster_centers_\n",
    "difference"
   ]
  },
  {
   "cell_type": "markdown",
   "id": "635ee549",
   "metadata": {},
   "source": [
    "###### My implementaiton showed very different results compared to scikit-learn toolkit's implementation: \n",
    "    - only a couple of the points in the data were in the same cluster as scikit-learn toolkit's \n",
    "    - the cluster centers were somewhat different in my implementation compared to scikit-learn toolkit's"
   ]
  },
  {
   "cell_type": "markdown",
   "id": "6425b47d",
   "metadata": {},
   "source": [
    "# Clustering Algorithms "
   ]
  },
  {
   "cell_type": "code",
   "execution_count": 42,
   "id": "b37832d7",
   "metadata": {},
   "outputs": [
    {
     "data": {
      "text/html": [
       "<div>\n",
       "<style scoped>\n",
       "    .dataframe tbody tr th:only-of-type {\n",
       "        vertical-align: middle;\n",
       "    }\n",
       "\n",
       "    .dataframe tbody tr th {\n",
       "        vertical-align: top;\n",
       "    }\n",
       "\n",
       "    .dataframe thead th {\n",
       "        text-align: right;\n",
       "    }\n",
       "</style>\n",
       "<table border=\"1\" class=\"dataframe\">\n",
       "  <thead>\n",
       "    <tr style=\"text-align: right;\">\n",
       "      <th></th>\n",
       "      <th>Trip Seconds</th>\n",
       "      <th>Trip Miles</th>\n",
       "      <th>Pickup Census Tract</th>\n",
       "      <th>Dropoff Census Tract</th>\n",
       "      <th>Pickup Community Area</th>\n",
       "      <th>Dropoff Community Area</th>\n",
       "      <th>Fare</th>\n",
       "      <th>Tips</th>\n",
       "      <th>Tolls</th>\n",
       "      <th>Extras</th>\n",
       "      <th>Trip Total</th>\n",
       "      <th>Pickup Centroid Latitude</th>\n",
       "      <th>Pickup Centroid Longitude</th>\n",
       "      <th>Dropoff Centroid Latitude</th>\n",
       "      <th>Dropoff Centroid Longitude</th>\n",
       "    </tr>\n",
       "  </thead>\n",
       "  <tbody>\n",
       "    <tr>\n",
       "      <th>count</th>\n",
       "      <td>1000.00000</td>\n",
       "      <td>1000.00000</td>\n",
       "      <td>6.200000e+02</td>\n",
       "      <td>6.130000e+02</td>\n",
       "      <td>939.000000</td>\n",
       "      <td>916.000000</td>\n",
       "      <td>1000.000000</td>\n",
       "      <td>1000.000000</td>\n",
       "      <td>1000.0</td>\n",
       "      <td>1000.000000</td>\n",
       "      <td>1000.00000</td>\n",
       "      <td>939.000000</td>\n",
       "      <td>939.000000</td>\n",
       "      <td>918.000000</td>\n",
       "      <td>918.000000</td>\n",
       "    </tr>\n",
       "    <tr>\n",
       "      <th>mean</th>\n",
       "      <td>798.43100</td>\n",
       "      <td>3.83422</td>\n",
       "      <td>1.703142e+10</td>\n",
       "      <td>1.703140e+10</td>\n",
       "      <td>27.585729</td>\n",
       "      <td>22.936681</td>\n",
       "      <td>14.533270</td>\n",
       "      <td>2.019120</td>\n",
       "      <td>0.0</td>\n",
       "      <td>1.001050</td>\n",
       "      <td>17.69289</td>\n",
       "      <td>41.899001</td>\n",
       "      <td>-87.667414</td>\n",
       "      <td>41.898918</td>\n",
       "      <td>-87.653448</td>\n",
       "    </tr>\n",
       "    <tr>\n",
       "      <th>std</th>\n",
       "      <td>757.43541</td>\n",
       "      <td>6.97903</td>\n",
       "      <td>3.470671e+05</td>\n",
       "      <td>3.384498e+05</td>\n",
       "      <td>21.310024</td>\n",
       "      <td>17.155105</td>\n",
       "      <td>16.663001</td>\n",
       "      <td>3.394834</td>\n",
       "      <td>0.0</td>\n",
       "      <td>3.236228</td>\n",
       "      <td>21.05054</td>\n",
       "      <td>0.044277</td>\n",
       "      <td>0.085615</td>\n",
       "      <td>0.038209</td>\n",
       "      <td>0.055467</td>\n",
       "    </tr>\n",
       "    <tr>\n",
       "      <th>min</th>\n",
       "      <td>0.00000</td>\n",
       "      <td>0.00000</td>\n",
       "      <td>1.703103e+10</td>\n",
       "      <td>1.703103e+10</td>\n",
       "      <td>1.000000</td>\n",
       "      <td>1.000000</td>\n",
       "      <td>2.000000</td>\n",
       "      <td>0.000000</td>\n",
       "      <td>0.0</td>\n",
       "      <td>0.000000</td>\n",
       "      <td>2.00000</td>\n",
       "      <td>41.673820</td>\n",
       "      <td>-87.913625</td>\n",
       "      <td>41.706588</td>\n",
       "      <td>-87.913625</td>\n",
       "    </tr>\n",
       "    <tr>\n",
       "      <th>25%</th>\n",
       "      <td>358.50000</td>\n",
       "      <td>0.57750</td>\n",
       "      <td>1.703108e+10</td>\n",
       "      <td>1.703108e+10</td>\n",
       "      <td>8.000000</td>\n",
       "      <td>8.000000</td>\n",
       "      <td>6.000000</td>\n",
       "      <td>0.000000</td>\n",
       "      <td>0.0</td>\n",
       "      <td>0.000000</td>\n",
       "      <td>7.00000</td>\n",
       "      <td>41.880994</td>\n",
       "      <td>-87.655998</td>\n",
       "      <td>41.880994</td>\n",
       "      <td>-87.655998</td>\n",
       "    </tr>\n",
       "    <tr>\n",
       "      <th>50%</th>\n",
       "      <td>540.00000</td>\n",
       "      <td>1.20000</td>\n",
       "      <td>1.703128e+10</td>\n",
       "      <td>1.703128e+10</td>\n",
       "      <td>28.000000</td>\n",
       "      <td>25.000000</td>\n",
       "      <td>7.750000</td>\n",
       "      <td>0.000000</td>\n",
       "      <td>0.0</td>\n",
       "      <td>0.000000</td>\n",
       "      <td>9.75000</td>\n",
       "      <td>41.890922</td>\n",
       "      <td>-87.632746</td>\n",
       "      <td>41.892042</td>\n",
       "      <td>-87.633308</td>\n",
       "    </tr>\n",
       "    <tr>\n",
       "      <th>75%</th>\n",
       "      <td>1020.00000</td>\n",
       "      <td>3.12750</td>\n",
       "      <td>1.703184e+10</td>\n",
       "      <td>1.703184e+10</td>\n",
       "      <td>32.000000</td>\n",
       "      <td>32.000000</td>\n",
       "      <td>14.500000</td>\n",
       "      <td>2.212500</td>\n",
       "      <td>0.0</td>\n",
       "      <td>1.000000</td>\n",
       "      <td>16.63750</td>\n",
       "      <td>41.900221</td>\n",
       "      <td>-87.626211</td>\n",
       "      <td>41.902788</td>\n",
       "      <td>-87.626215</td>\n",
       "    </tr>\n",
       "    <tr>\n",
       "      <th>max</th>\n",
       "      <td>8037.00000</td>\n",
       "      <td>127.19000</td>\n",
       "      <td>1.703198e+10</td>\n",
       "      <td>1.703198e+10</td>\n",
       "      <td>77.000000</td>\n",
       "      <td>77.000000</td>\n",
       "      <td>291.000000</td>\n",
       "      <td>45.000000</td>\n",
       "      <td>0.0</td>\n",
       "      <td>44.000000</td>\n",
       "      <td>345.50000</td>\n",
       "      <td>42.009623</td>\n",
       "      <td>-87.551428</td>\n",
       "      <td>42.009623</td>\n",
       "      <td>-87.572717</td>\n",
       "    </tr>\n",
       "  </tbody>\n",
       "</table>\n",
       "</div>"
      ],
      "text/plain": [
       "       Trip Seconds  Trip Miles  Pickup Census Tract  Dropoff Census Tract  \\\n",
       "count    1000.00000  1000.00000         6.200000e+02          6.130000e+02   \n",
       "mean      798.43100     3.83422         1.703142e+10          1.703140e+10   \n",
       "std       757.43541     6.97903         3.470671e+05          3.384498e+05   \n",
       "min         0.00000     0.00000         1.703103e+10          1.703103e+10   \n",
       "25%       358.50000     0.57750         1.703108e+10          1.703108e+10   \n",
       "50%       540.00000     1.20000         1.703128e+10          1.703128e+10   \n",
       "75%      1020.00000     3.12750         1.703184e+10          1.703184e+10   \n",
       "max      8037.00000   127.19000         1.703198e+10          1.703198e+10   \n",
       "\n",
       "       Pickup Community Area  Dropoff Community Area         Fare  \\\n",
       "count             939.000000              916.000000  1000.000000   \n",
       "mean               27.585729               22.936681    14.533270   \n",
       "std                21.310024               17.155105    16.663001   \n",
       "min                 1.000000                1.000000     2.000000   \n",
       "25%                 8.000000                8.000000     6.000000   \n",
       "50%                28.000000               25.000000     7.750000   \n",
       "75%                32.000000               32.000000    14.500000   \n",
       "max                77.000000               77.000000   291.000000   \n",
       "\n",
       "              Tips   Tolls       Extras  Trip Total  Pickup Centroid Latitude  \\\n",
       "count  1000.000000  1000.0  1000.000000  1000.00000                939.000000   \n",
       "mean      2.019120     0.0     1.001050    17.69289                 41.899001   \n",
       "std       3.394834     0.0     3.236228    21.05054                  0.044277   \n",
       "min       0.000000     0.0     0.000000     2.00000                 41.673820   \n",
       "25%       0.000000     0.0     0.000000     7.00000                 41.880994   \n",
       "50%       0.000000     0.0     0.000000     9.75000                 41.890922   \n",
       "75%       2.212500     0.0     1.000000    16.63750                 41.900221   \n",
       "max      45.000000     0.0    44.000000   345.50000                 42.009623   \n",
       "\n",
       "       Pickup Centroid Longitude  Dropoff Centroid Latitude  \\\n",
       "count                 939.000000                 918.000000   \n",
       "mean                  -87.667414                  41.898918   \n",
       "std                     0.085615                   0.038209   \n",
       "min                   -87.913625                  41.706588   \n",
       "25%                   -87.655998                  41.880994   \n",
       "50%                   -87.632746                  41.892042   \n",
       "75%                   -87.626211                  41.902788   \n",
       "max                   -87.551428                  42.009623   \n",
       "\n",
       "       Dropoff Centroid Longitude  \n",
       "count                  918.000000  \n",
       "mean                   -87.653448  \n",
       "std                      0.055467  \n",
       "min                    -87.913625  \n",
       "25%                    -87.655998  \n",
       "50%                    -87.633308  \n",
       "75%                    -87.626215  \n",
       "max                    -87.572717  "
      ]
     },
     "execution_count": 42,
     "metadata": {},
     "output_type": "execute_result"
    }
   ],
   "source": [
    "df = pd.read_csv('chicago_taxi.csv')\n",
    "df = df.sample(n=1000)\n",
    "df.describe()"
   ]
  },
  {
   "cell_type": "code",
   "execution_count": 43,
   "id": "bdf94d38",
   "metadata": {},
   "outputs": [
    {
     "name": "stdout",
     "output_type": "stream",
     "text": [
      "<class 'pandas.core.frame.DataFrame'>\n",
      "Int64Index: 1000 entries, 125384 to 48051\n",
      "Data columns (total 23 columns):\n",
      " #   Column                      Non-Null Count  Dtype  \n",
      "---  ------                      --------------  -----  \n",
      " 0   Trip ID                     1000 non-null   object \n",
      " 1   Taxi ID                     1000 non-null   object \n",
      " 2   Trip Start Timestamp        1000 non-null   object \n",
      " 3   Trip End Timestamp          1000 non-null   object \n",
      " 4   Trip Seconds                1000 non-null   float64\n",
      " 5   Trip Miles                  1000 non-null   float64\n",
      " 6   Pickup Census Tract         620 non-null    float64\n",
      " 7   Dropoff Census Tract        613 non-null    float64\n",
      " 8   Pickup Community Area       939 non-null    float64\n",
      " 9   Dropoff Community Area      916 non-null    float64\n",
      " 10  Fare                        1000 non-null   float64\n",
      " 11  Tips                        1000 non-null   float64\n",
      " 12  Tolls                       1000 non-null   float64\n",
      " 13  Extras                      1000 non-null   float64\n",
      " 14  Trip Total                  1000 non-null   float64\n",
      " 15  Payment Type                1000 non-null   object \n",
      " 16  Company                     1000 non-null   object \n",
      " 17  Pickup Centroid Latitude    939 non-null    float64\n",
      " 18  Pickup Centroid Longitude   939 non-null    float64\n",
      " 19  Pickup Centroid Location    939 non-null    object \n",
      " 20  Dropoff Centroid Latitude   918 non-null    float64\n",
      " 21  Dropoff Centroid Longitude  918 non-null    float64\n",
      " 22  Dropoff Centroid  Location  918 non-null    object \n",
      "dtypes: float64(15), object(8)\n",
      "memory usage: 187.5+ KB\n"
     ]
    }
   ],
   "source": [
    "df.info()"
   ]
  },
  {
   "cell_type": "code",
   "execution_count": 44,
   "id": "818938b7",
   "metadata": {},
   "outputs": [
    {
     "data": {
      "text/plain": [
       "Taxi Affiliation Services                       239\n",
       "Flash Cab                                       171\n",
       "Chicago Carriage Cab Corp                        93\n",
       "Sun Taxi                                         81\n",
       "City Service                                     75\n",
       "Medallion Leasin                                 66\n",
       "Star North Management LLC                        53\n",
       "Blue Ribbon Taxi Association Inc.                42\n",
       "Taxicab Insurance Agency, LLC                    42\n",
       "Choice Taxi Association                          28\n",
       "Chicago Independents                             22\n",
       "Nova Taxi Affiliation Llc                        18\n",
       "Patriot Taxi Dba Peace Taxi Associat             12\n",
       "Top Cab Affiliation                              12\n",
       "24 Seven Taxi                                    10\n",
       "Chicago Taxicab                                   7\n",
       "KOAM Taxi Association                             5\n",
       "Setare Inc                                        5\n",
       "Chicago Medallion Management                      5\n",
       "Suburban Dispatch LLC                             3\n",
       "3591 - 63480 Chuks Cab                            2\n",
       "5 Star Taxi                                       2\n",
       "6742 - 83735 Tasha ride inc                       2\n",
       "Petani Cab Corp                                   1\n",
       "4623 - 27290 Jay Kim                              1\n",
       "3011 - 66308 JBL Cab Inc.                         1\n",
       "3721 - Santamaria Express, Alvaro Santamaria      1\n",
       "Metro Jet Taxi A                                  1\n",
       "Name: Company, dtype: int64"
      ]
     },
     "execution_count": 44,
     "metadata": {},
     "output_type": "execute_result"
    }
   ],
   "source": [
    "df['Company'].value_counts()"
   ]
  },
  {
   "cell_type": "code",
   "execution_count": 45,
   "id": "a70caea3",
   "metadata": {},
   "outputs": [
    {
     "data": {
      "image/png": "[encoded data removed]",
      "text/plain": [
       "<Figure size 1440x1080 with 16 Axes>"
      ]
     },
     "metadata": {
      "needs_background": "light"
     },
     "output_type": "display_data"
    }
   ],
   "source": [
    "import matplotlib.pyplot as plt\n",
    "\n",
    "df.hist(bins=50, figsize=(20, 15))\n",
    "plt.show()"
   ]
  },
  {
   "cell_type": "code",
   "execution_count": 46,
   "id": "0adbb0f1",
   "metadata": {},
   "outputs": [
    {
     "data": {
      "image/png": "[encoded data removed]",
      "text/plain": [
       "<Figure size 432x288 with 1 Axes>"
      ]
     },
     "metadata": {
      "needs_background": "light"
     },
     "output_type": "display_data"
    }
   ],
   "source": [
    "df.plot(kind = 'scatter', x= 'Pickup Centroid Longitude', y = 'Pickup Centroid Latitude', alpha=.4)\n",
    "plt.show()"
   ]
  },
  {
   "cell_type": "code",
   "execution_count": 49,
   "id": "e6ff6a48",
   "metadata": {},
   "outputs": [
    {
     "name": "stderr",
     "output_type": "stream",
     "text": [
      "/Users/andytamez/Library/Python/3.8/lib/python/site-packages/seaborn/_decorators.py:36: FutureWarning: Pass the following variables as keyword args: x, y. From version 0.12, the only valid positional argument will be `data`, and passing other arguments without an explicit keyword will result in an error or misinterpretation.\n",
      "  warnings.warn(\n"
     ]
    },
    {
     "data": {
      "image/png": "[encoded data removed]",
      "text/plain": [
       "<Figure size 432x288 with 1 Axes>"
      ]
     },
     "metadata": {
      "needs_background": "light"
     },
     "output_type": "display_data"
    }
   ],
   "source": [
    "import seaborn as sns\n",
    "\n",
    "sns.scatterplot('Pickup Centroid Longitude', 'Pickup Centroid Latitude', hue='Company', data=df, legend=False)\n",
    "plt.show()"
   ]
  },
  {
   "cell_type": "code",
   "execution_count": 55,
   "id": "ac45f06e",
   "metadata": {},
   "outputs": [
    {
     "data": {
      "text/html": [
       "<div>\n",
       "<style scoped>\n",
       "    .dataframe tbody tr th:only-of-type {\n",
       "        vertical-align: middle;\n",
       "    }\n",
       "\n",
       "    .dataframe tbody tr th {\n",
       "        vertical-align: top;\n",
       "    }\n",
       "\n",
       "    .dataframe thead th {\n",
       "        text-align: right;\n",
       "    }\n",
       "</style>\n",
       "<table border=\"1\" class=\"dataframe\">\n",
       "  <thead>\n",
       "    <tr style=\"text-align: right;\">\n",
       "      <th></th>\n",
       "      <th>Company</th>\n",
       "      <th>Trip Miles</th>\n",
       "      <th>Fare</th>\n",
       "    </tr>\n",
       "  </thead>\n",
       "  <tbody>\n",
       "    <tr>\n",
       "      <th>125384</th>\n",
       "      <td>Taxi Affiliation Services</td>\n",
       "      <td>15.60</td>\n",
       "      <td>39.25</td>\n",
       "    </tr>\n",
       "    <tr>\n",
       "      <th>95482</th>\n",
       "      <td>Taxicab Insurance Agency, LLC</td>\n",
       "      <td>1.50</td>\n",
       "      <td>7.50</td>\n",
       "    </tr>\n",
       "    <tr>\n",
       "      <th>130329</th>\n",
       "      <td>Flash Cab</td>\n",
       "      <td>1.77</td>\n",
       "      <td>7.75</td>\n",
       "    </tr>\n",
       "    <tr>\n",
       "      <th>226252</th>\n",
       "      <td>Choice Taxi Association</td>\n",
       "      <td>2.20</td>\n",
       "      <td>9.00</td>\n",
       "    </tr>\n",
       "    <tr>\n",
       "      <th>33664</th>\n",
       "      <td>Sun Taxi</td>\n",
       "      <td>15.36</td>\n",
       "      <td>40.00</td>\n",
       "    </tr>\n",
       "    <tr>\n",
       "      <th>...</th>\n",
       "      <td>...</td>\n",
       "      <td>...</td>\n",
       "      <td>...</td>\n",
       "    </tr>\n",
       "    <tr>\n",
       "      <th>131796</th>\n",
       "      <td>Taxi Affiliation Services</td>\n",
       "      <td>0.00</td>\n",
       "      <td>7.50</td>\n",
       "    </tr>\n",
       "    <tr>\n",
       "      <th>286683</th>\n",
       "      <td>Sun Taxi</td>\n",
       "      <td>7.92</td>\n",
       "      <td>23.00</td>\n",
       "    </tr>\n",
       "    <tr>\n",
       "      <th>280999</th>\n",
       "      <td>Flash Cab</td>\n",
       "      <td>0.63</td>\n",
       "      <td>5.75</td>\n",
       "    </tr>\n",
       "    <tr>\n",
       "      <th>272021</th>\n",
       "      <td>Sun Taxi</td>\n",
       "      <td>0.91</td>\n",
       "      <td>6.50</td>\n",
       "    </tr>\n",
       "    <tr>\n",
       "      <th>48051</th>\n",
       "      <td>Taxi Affiliation Services</td>\n",
       "      <td>0.70</td>\n",
       "      <td>5.00</td>\n",
       "    </tr>\n",
       "  </tbody>\n",
       "</table>\n",
       "<p>1000 rows × 3 columns</p>\n",
       "</div>"
      ],
      "text/plain": [
       "                              Company  Trip Miles   Fare\n",
       "125384      Taxi Affiliation Services       15.60  39.25\n",
       "95482   Taxicab Insurance Agency, LLC        1.50   7.50\n",
       "130329                      Flash Cab        1.77   7.75\n",
       "226252        Choice Taxi Association        2.20   9.00\n",
       "33664                        Sun Taxi       15.36  40.00\n",
       "...                               ...         ...    ...\n",
       "131796      Taxi Affiliation Services        0.00   7.50\n",
       "286683                       Sun Taxi        7.92  23.00\n",
       "280999                      Flash Cab        0.63   5.75\n",
       "272021                       Sun Taxi        0.91   6.50\n",
       "48051       Taxi Affiliation Services        0.70   5.00\n",
       "\n",
       "[1000 rows x 3 columns]"
      ]
     },
     "execution_count": 55,
     "metadata": {},
     "output_type": "execute_result"
    }
   ],
   "source": [
    "new_df = df[['Company', 'Trip Miles', 'Fare']]\n",
    "new_df"
   ]
  },
  {
   "cell_type": "code",
   "execution_count": 59,
   "id": "caf4d6d4",
   "metadata": {},
   "outputs": [],
   "source": [
    "def leaf_label_function(taxi):\n",
    "    return new_df.iloc[taxi,1]"
   ]
  },
  {
   "cell_type": "code",
   "execution_count": 60,
   "id": "bd9b725d",
   "metadata": {},
   "outputs": [
    {
     "data": {
      "image/png": "[encoded data removed]",
      "text/plain": [
       "<Figure size 1440x288 with 1 Axes>"
      ]
     },
     "metadata": {
      "needs_background": "light"
     },
     "output_type": "display_data"
    }
   ],
   "source": [
    "from scipy.cluster.hierarchy import linkage, dendrogram \n",
    "import matplotlib.pyplot as plt \n",
    "\n",
    "plt.figure(figsize=(20, 4))\n",
    "plt.title(\"Random Taxi Rides\")\n",
    "dend = dendrogram(linkage(new_df[['Trip Miles', 'Fare']], method='ward'), \n",
    "                  leaf_label_func = leaf_label_function)\n",
    "plt.show()\n"
   ]
  },
  {
   "cell_type": "markdown",
   "id": "acd160a5",
   "metadata": {},
   "source": [
    "###### The reason why you chose the clustering algorithm(s)\n",
    "    - I chose this clustering algorithm to see the relationship between a taxi company, the length of the ride and how much they charge\n",
    "    \n",
    "###### Any pre-processing of the data or any hyperparameter settings\n",
    "    - Since dataset was large, I randomly selected 200 taxi rides from the data set\n",
    "    \n",
    "###### Output from the algorithm(s) -- show what clusters were generated\n",
    "    - I have added a visualization of the output of the algorithm\n",
    "\n",
    "###### The metrics you used to evaluate the output. What kind of performance did you get from that algorithm? Is that what you expected?\n",
    "    - I did recieve what I expected, I expected it to have a similar fare and distance between different rides completed by different companies, but some ended up being a little more expensive and longer than others. If I had more time for this assignment I would find out the relationship between the latitude and longitude and the fare (maybe some areas are more expensive than others) "
   ]
  },
  {
   "cell_type": "code",
   "execution_count": null,
   "id": "d3ddac0c",
   "metadata": {},
   "outputs": [],
   "source": []
  }
 ],
 "metadata": {
  "kernelspec": {
   "display_name": "Python 3 (ipykernel)",
   "language": "python",
   "name": "python3"
  },
  "language_info": {
   "codemirror_mode": {
    "name": "ipython",
    "version": 3
   },
   "file_extension": ".py",
   "mimetype": "text/x-python",
   "name": "python",
   "nbconvert_exporter": "python",
   "pygments_lexer": "ipython3",
   "version": "3.8.9"
  }
 },
 "nbformat": 4,
 "nbformat_minor": 5
}
